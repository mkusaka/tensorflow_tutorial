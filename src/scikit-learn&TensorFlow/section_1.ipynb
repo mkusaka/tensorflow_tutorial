{
 "cells": [
  {
   "cell_type": "markdown",
   "metadata": {},
   "source": [
    "# 機械学習の基礎\n",
    "- OCRなどで昔から存在\n",
    "- 数億人規模への貢献という視点からすると最初のMLの貢献はスパムフィルタが最初と思われる\n",
    "\n",
    "## 1.1 機械学習とはなにか\n",
    "- `コンピュータがデータから学習できるようにするためのコンピュータプログラミングについての科学`\n",
    "- 広義には `明示的にプログラミングせずコンピュータに学習能力を与えるための学習分野`\n",
    "- 技術的に経験をEとし、タスクをTとすると `EによってタスクTに対する測定指標Pで測定した性能が上がるとき` がTについてEから学習したと言われる\n",
    "\n",
    "### スパムメールの例\n",
    "- スパムメールと正常なメール(ハムと呼ぶ)を与えるとスパムフィルタがスパムを見分けられるようにになるならフィルタは機械学習プログラムである\n",
    "- スパムフィルタのタスクT: 新しいメールにスパムのフラグを付けるかどうかを判定すること\n",
    "\n",
    "\n",
    "#### 訓練セット\n",
    "システムが学習のために使うデータ例\n",
    "\n",
    "#### 訓練インスタンス\n",
    "訓練セットのここのデータ例\n",
    "**標本**、  **サンプル** とも呼ぶ\n",
    "\n"
   ]
  }
 ],
 "metadata": {
  "kernelspec": {
   "display_name": "Python 3",
   "language": "python",
   "name": "python3"
  },
  "language_info": {
   "codemirror_mode": {
    "name": "ipython",
    "version": 3
   },
   "file_extension": ".py",
   "mimetype": "text/x-python",
   "name": "python",
   "nbconvert_exporter": "python",
   "pygments_lexer": "ipython3",
   "version": "3.6.8"
  }
 },
 "nbformat": 4,
 "nbformat_minor": 2
}
