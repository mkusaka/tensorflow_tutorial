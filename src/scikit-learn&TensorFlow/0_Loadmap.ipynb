{
 "cells": [
  {
   "cell_type": "markdown",
   "metadata": {},
   "source": [
    "# ロードマップ\n",
    "2部構成\n",
    "\n",
    "## 第Ⅰ部: 機械学習の基礎\n",
    "scikit-learnを使った学習の基礎\n",
    "- 機械学習とはなにか\n",
    "- 機械学習プロジェクトのステップ\n",
    "- モデルをデータに適合させて学習する方法\n",
    "- コスト関数の最適化\n",
    "- データ処理、クリーニング、準備\n",
    "- 特徴の選択と操作\n",
    "- モデルの選択と交差検証を使ったハイパーパラメータの調整\n",
    "- 機械学習の主要な問題\n",
    "  - 過小適合\n",
    "  - 過剰適合\n",
    "- 次元削減\n",
    "- 一般的な学習アルゴリズム\n",
    "  - 線形回帰\n",
    "  - 多項回帰\n",
    "  - ロジスティック回帰\n",
    "  - k近似法\n",
    "  - SVM\n",
    "  - 決定機\n",
    "  - ランダムフォレスト\n",
    "  - アンサンブルメソッド\n",
    "\n",
    "## 第Ⅱ部: ニューラルネットワークと深層学習\n",
    "TensorFlowを使ったNNの学習\n",
    "- ニューラルネットとはなにか\n",
    "- tensorflowと使ったニューラルネットお構築\n",
    "- 重要なNNのアーキテクチャ\n",
    "   - FNN\n",
    "   - CNN\n",
    "   - RNN\n",
    "   - LSTM\n",
    "   - オートエンコーダ\n",
    "- 訓練テクニック\n",
    "- スケーリング\n",
    "- 強化学習"
   ]
  },
  {
   "cell_type": "markdown",
   "metadata": {},
   "source": [
    "### その他の教材\n",
    "- [アンドリュー・ングの講義](https://www.coursera.org/learn/machine-learning)\n",
    "- ジェフリー・ヒントンの講義 (これは404になっていた、、)\n",
    "- [Dataquest](https://www.dataquest.io/)\n",
    "  - 対話的教材を提供している\n",
    "- [Quora](https://www.quora.com/What-are-the-best-regularly-updated-machine-learning-blogs-or-resources-available)\n",
    "  - ブログがまとめられている\n",
    "- [DeepLearningのウェブサイト](http://deeplearning.net/)\n",
    "  - 学習を深めるための優れた参考資料リストがある"
   ]
  },
  {
   "cell_type": "code",
   "execution_count": null,
   "metadata": {},
   "outputs": [],
   "source": []
  }
 ],
 "metadata": {
  "kernelspec": {
   "display_name": "Python 3",
   "language": "python",
   "name": "python3"
  },
  "language_info": {
   "codemirror_mode": {
    "name": "ipython",
    "version": 3
   },
   "file_extension": ".py",
   "mimetype": "text/x-python",
   "name": "python",
   "nbconvert_exporter": "python",
   "pygments_lexer": "ipython3",
   "version": "3.6.8"
  }
 },
 "nbformat": 4,
 "nbformat_minor": 2
}
